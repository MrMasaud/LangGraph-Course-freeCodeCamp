{
  "nbformat": 4,
  "nbformat_minor": 0,
  "metadata": {
    "colab": {
      "provenance": [],
      "authorship_tag": "ABX9TyNQRz7bzSQ8U2ev6hcrr4dx",
      "include_colab_link": true
    },
    "kernelspec": {
      "name": "python3",
      "display_name": "Python 3"
    },
    "language_info": {
      "name": "python"
    }
  },
  "cells": [
    {
      "cell_type": "markdown",
      "metadata": {
        "id": "view-in-github",
        "colab_type": "text"
      },
      "source": [
        "<a href=\"https://colab.research.google.com/github/MrMasaud/LangGraph-Course-freeCodeCamp/blob/main/workingGroqAi.ipynb\" target=\"_parent\"><img src=\"https://colab.research.google.com/assets/colab-badge.svg\" alt=\"Open In Colab\"/></a>"
      ]
    },
    {
      "cell_type": "code",
      "source": [
        "import os\n",
        "from google.colab import userdata\n",
        "os.environ[\"GROQ_API_KEY\"]=userdata.get('GROQ_API_KEY')"
      ],
      "metadata": {
        "id": "smXj_O3dloWu"
      },
      "execution_count": null,
      "outputs": []
    },
    {
      "cell_type": "code",
      "source": [
        "from groq import Groq\n",
        "client = Groq()"
      ],
      "metadata": {
        "id": "YpuC0L6zmKvB"
      },
      "execution_count": null,
      "outputs": []
    },
    {
      "cell_type": "code",
      "source": [
        "def generate_content(prompt):\n",
        "  response = client.chat.completions.create(\n",
        "    model=\"openai/gpt-oss-120b\",\n",
        "    messages=[{\n",
        "        \"role\": \"user\",\n",
        "        \"content\": prompt\n",
        "      }]\n",
        "  )\n",
        "  return response.choices[0].message.content\n",
        "\n"
      ],
      "metadata": {
        "id": "XnyfpNbmmuj_"
      },
      "execution_count": null,
      "outputs": []
    },
    {
      "cell_type": "code",
      "source": [
        "user_input=input(\"Enter your prompt: \")"
      ],
      "metadata": {
        "colab": {
          "base_uri": "https://localhost:8080/"
        },
        "id": "XqykHOQRnJRO",
        "outputId": "6e07400a-a392-4969-f515-b14f9f22d694"
      },
      "execution_count": null,
      "outputs": [
        {
          "name": "stdout",
          "output_type": "stream",
          "text": [
            "Enter your prompt: tell me how to cook chapati\n"
          ]
        }
      ]
    },
    {
      "cell_type": "code",
      "source": [
        "output=generate_content(user_input)"
      ],
      "metadata": {
        "id": "pBzncq_jmfp-"
      },
      "execution_count": null,
      "outputs": []
    },
    {
      "cell_type": "code",
      "source": [
        "output"
      ],
      "metadata": {
        "colab": {
          "base_uri": "https://localhost:8080/",
          "height": 1000
        },
        "id": "ZBoFWXAxmwEc",
        "outputId": "1d0e164a-f18f-45fc-bf67-13b91f842c36"
      },
      "execution_count": null,
      "outputs": [
        {
          "output_type": "execute_result",
          "data": {
            "text/plain": [
              "'**Chapati (Indian flatbread) – Simple Step‑by‑Step Guide**\\n\\nBelow is a classic, no‑fuss method for making soft, pliable chapatis at home. The recipe works for 2–3 people (about 8–10 chapatis). Feel free to scale the quantities up or down as needed.\\n\\n---\\n\\n## Ingredients\\n\\n| Ingredient | Quantity (for ~8‑10 chapatis) |\\n|------------|------------------------------|\\n| Whole‑wheat flour (atta) | 2\\u202fcups (≈250\\u202fg) |\\n| Water (lukewarm) | ¾\\u202fcup (≈180\\u202fml) – add a little more if needed |\\n| Salt (optional) | ½\\u202ftsp |\\n| Oil or ghee (optional) | 1\\u202ftsp (helps keep chapatis softer) |\\n| Extra flour (for dusting) | As needed |\\n\\n> **Tip:** Using a good-quality whole‑wheat flour (atta) gives the best texture. If you can find “chapati flour” or “tandoori flour” it’s often milled a little finer, which makes rolling easier.\\n\\n---\\n\\n## Equipment\\n\\n- Large mixing bowl\\n- Rolling pin (or a smooth bottle if you don’t have one)\\n- Flat skillet or tawa (cast‑iron works great) or a non‑stick frying pan\\n- Tongs (optional, for flipping)\\n- Clean kitchen towel or paper towels\\n\\n---\\n\\n## Method\\n\\n### 1. Make the dough\\n1. **Combine dry ingredients**: In a large bowl, whisk together the flour and salt (if using).  \\n2. **Add water gradually**: Make a well in the centre and pour in about three‑quarters of the lukewarm water.  \\n3. **Mix & knead**: Stir with your hand or a spoon until the mixture starts to come together. Add the remaining water a tablespoon at a time, kneading as you go.  \\n4. **Knead until smooth**: Transfer the dough to a clean surface and knead for **4–6 minutes** until it’s soft, smooth, and slightly elastic. It should feel a little tacky but not stick to your hands.  \\n5. **Rest**: Lightly oil the surface of the dough, cover the bowl with a damp cloth, and let it rest for **15–30\\u202fminutes**. Resting relaxes the gluten, making the chapatis easier to roll.\\n\\n> **Pro tip:** If the dough feels too dry after the rest, sprinkle a few drops of water and knead briefly. If it’s too sticky, dust with a little extra flour.\\n\\n### 2. Shape the chapatis\\n1. **Divide**: Pinch off portions of dough roughly the size of a golf ball (≈45\\u202fg each). Roll each piece into a smooth ball.  \\n2. **Flatten**: Lightly dust a ball with flour, press it flat with your palm, then use a rolling pin to roll it into a circle about **6–7\\u202finches (15–18\\u202fcm)** in diameter. Aim for an even thickness—about 2\\u202fmm (1/16\\u202fin).  \\n3. **Dust lightly**: As you roll, lift the chapati and dust both sides with a little flour to prevent sticking, but shake off excess before cooking.\\n\\n> **Tip:** If a chapati tears, gently patch it together and continue rolling. A well‑floured surface and a relaxed dough make this easy.\\n\\n### 3. Cook the chapati\\n1. **Heat the tawa**: Place a dry skillet or tawa over medium‑high heat. It should be hot enough that a few drops of water sizzle and evaporate instantly.  \\n2. **First side**: Lay the rolled chapati onto the hot surface. Cook for **≈30\\u202fseconds**—you’ll see tiny bubbles forming.  \\n3. **Flip**: Using tongs or a spatula, turn it over. Cook the second side for another **30\\u202fseconds** until light golden spots appear.  \\n4. **Puff up**: Press gently with a clean kitchen towel or press gently with the spatula; the chapati should puff up. Once puffed, flip again for **10–15\\u202fseconds** to ensure the interior is cooked but not dry.  \\n5. **Optional finishing touch**: Brush the hot chapati with a little melted ghee or butter for extra flavor and softness.\\n\\n> **Signs it’s done:** The surface should be lightly browned with a few darker spots, and the chapati should be soft, not crispy. If it’s still doughy in the center, give it a few extra seconds on each side.\\n\\n### 4. Keep warm\\n- Stack the cooked chapatis in a clean kitchen towel or a covered container. This traps steam and keeps them soft.\\n- Serve within **30\\u202fminutes** for the best texture, or re‑heat briefly on the tawa before serving later.\\n\\n---\\n\\n## Serving Ideas\\n\\n- **Accompaniments:** Serve with dal (lentils), vegetable curries, paneer dishes, or any Indian gravy.\\n- **Breakfast:** Chapatis can be enjoyed with butter and jam, or rolled with scrambled eggs.\\n- **Snack:** Warm chapatis brushed with ghee and sprinkled with a pinch of salt make a simple, satisfying snack.\\n\\n---\\n\\n## Common Troubleshooting\\n\\n| Problem | Likely Cause | Fix |\\n|---------|--------------|-----|\\n| **Chapati tears while rolling** | Dough too dry or not rested enough | Add a few drops of water, knead a bit more, and let it rest longer. |\\n| **Chapati doesn’t puff** | Heat not hot enough; dough too stiff | Increase skillet temperature; ensure dough is well‑hydrated and rested. |\\n| **Chapatis become hard quickly** | Over‑cooking or stored uncovered | Cook just until lightly browned; keep them wrapped in a towel to retain steam. |\\n| **Chapati sticks to the pan** | Pan not hot enough or too much flour on the surface | Make sure the pan is properly heated; wipe away excess flour before cooking. |\\n\\n---\\n\\n## Quick “One‑Pan” Variation (for beginners)\\n\\nIf you don’t have a tawa, a non‑stick skillet works fine:\\n\\n1. Heat the skillet over medium‑high heat.  \\n2. Cook each side for 30‑45\\u202fseconds, then press lightly with a spatula to puff.  \\n3. Follow the same resting and serving steps.\\n\\n---\\n\\n### Summary Checklist\\n\\n- [ ] Measure 2\\u202fcups whole‑wheat flour, ½\\u202ftsp salt (optional).  \\n- [ ] Add lukewarm water gradually, knead 4‑6\\u202fmin → smooth dough.  \\n- [ ] Rest 15‑30\\u202fmin (covered).  \\n- [ ] Divide → roll into 6‑7\\u202fin. circles.  \\n- [ ] Cook each side 30\\u202fsec, puff, finish 10‑15\\u202fsec.  \\n- [ ] Keep warm in a towel; serve hot.\\n\\nEnjoy your homemade chapatis! If you have any specific dietary tweaks (e.g., gluten‑free alternatives) or want flavor variations, just let me know. Happy cooking!'"
            ],
            "application/vnd.google.colaboratory.intrinsic+json": {
              "type": "string"
            }
          },
          "metadata": {},
          "execution_count": 44
        }
      ]
    }
  ]
}